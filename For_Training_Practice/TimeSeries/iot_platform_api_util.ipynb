{
 "cells": [
  {
   "cell_type": "markdown",
   "id": "1c8bea1e-5adb-4916-9b40-b3bc30165f1b",
   "metadata": {},
   "source": [
    "## main 함수부분의 post_url과 nu의 \"offered_url\"부분을 수업에서 가이드한 대로 변경후 실행시켜주세요."
   ]
  },
  {
   "cell_type": "code",
   "execution_count": null,
   "id": "43f1b062-365c-4e46-b27d-3759ae01f6ff",
   "metadata": {},
   "outputs": [],
   "source": [
    "import json\n",
    "from urllib.parse import urlparse\n",
    "from api_util.http_request import http_get, http_post\n",
    "from api_util.mqtt_request import subscribing, subscribing_once\n",
    "from api_util.iot_platform_dto.post_cin_dto import M2MPostCinDTO\n",
    "from api_util.iot_platform_dto.post_cnt_dto import M2MPostCntDTO\n",
    "\n",
    "offered_url = \"203.250.148.120\"\n",
    "\n",
    "def get_iot_platform_cnt_lbl(url):\n",
    "    cnt_dict = json.loads(http_get(url, iotPlatform = True).text)\n",
    "    cnt_lbl = cnt_dict['m2m:cnt'][\"lbl\"]\n",
    "\n",
    "    return cnt_lbl\n",
    "\n",
    "def get_iot_platform_sub_nu(url):\n",
    "    sub_dict = json.loads(http_get(url, iotPlatform = True).text)\n",
    "    sub_nu = sub_dict['m2m:sub'][\"nu\"]\n",
    "\n",
    "    return sub_nu\n",
    "\n",
    "def post_iot_platform_sensing_cin(url, sensor_data):\n",
    "    cin = M2MPostCinDTO(sensor_data)\n",
    "    response = http_post(url, json=cin.m2m_cin, iotPlatform = True, ty=4)\n",
    "    return response\n",
    "\n",
    "def post_iot_platform_cnt(url, cnt_name, lbl = []):\n",
    "    cnt = M2MPostCntDTO(cnt_name, lbl)\n",
    "    response = http_post(url, json=cnt.m2m_cnt, iotPlatform = True, ty=3)\n",
    "    return response\n",
    "\n",
    "def sub_iot_platform_cin_con(nu, port):\n",
    "    ip = urlparse(nu).hostname\n",
    "    path_segments = urlparse(nu).path.split('/')\n",
    "    topic = next(segment for segment in path_segments if segment)\n",
    "    print(topic)\n",
    "    port = int(port)\n",
    "\n",
    "    received_msg = subscribing_once(ip, port, topic)\n",
    "    print(received_msg)\n",
    "    parsed_msg = received_msg['pc']['m2m:sgn']['nev']['rep']['m2m:cin']['con']\n",
    "\n",
    "    try:\n",
    "        parsed_msg = json.loads(parsed_msg)\n",
    "    except:\n",
    "        pass\n",
    "\n",
    "    return parsed_msg\n",
    "\n",
    "if __name__ == \"__main__\":\n",
    "\n",
    "    post_url = f'http://{offered_url}/service408/Sensor1/train/ce7840ca'\n",
    "    nu = f'mqtt://{offered_url}/service408Sensor1?ct=json'\n",
    "    port = 20516\n",
    "    x = sub_iot_platform_cin_con(nu, port)"
   ]
  }
 ],
 "metadata": {
  "kernelspec": {
   "display_name": "Python 3 (ipykernel)",
   "language": "python",
   "name": "python3"
  },
  "language_info": {
   "codemirror_mode": {
    "name": "ipython",
    "version": 3
   },
   "file_extension": ".py",
   "mimetype": "text/x-python",
   "name": "python",
   "nbconvert_exporter": "python",
   "pygments_lexer": "ipython3",
   "version": "3.12.7"
  }
 },
 "nbformat": 4,
 "nbformat_minor": 5
}
